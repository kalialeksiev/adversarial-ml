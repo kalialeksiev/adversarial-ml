{
 "cells": [
  {
   "cell_type": "code",
   "execution_count": 1,
   "metadata": {},
   "outputs": [],
   "source": [
    "import sys\n",
    "sys.path.append(\"..\")"
   ]
  },
  {
   "cell_type": "code",
   "execution_count": 21,
   "metadata": {},
   "outputs": [],
   "source": [
    "import random\n",
    "import pandas as pd\n",
    "import numpy as np\n",
    "from sklearn.neural_network import BernoulliRBM\n",
    "import matplotlib.pyplot as plt\n",
    "import seaborn\n",
    "import models.xgb as xgb\n",
    "import models.feature_util\n",
    "from models.data_util import get_col_matcher"
   ]
  },
  {
   "cell_type": "code",
   "execution_count": 3,
   "metadata": {},
   "outputs": [],
   "source": [
    "db = pd.read_pickle(\"../data/clean.pkl\")\n",
    "model = xgb.from_file(\"../data/xgb_model.bin\")\n",
    "\n",
    "x, y_true = db.drop('isfailed', axis=1).to_numpy(), db[['isfailed']].to_numpy()"
   ]
  },
  {
   "cell_type": "code",
   "execution_count": 14,
   "metadata": {},
   "outputs": [],
   "source": [
    "dbcols = list(db.drop('isfailed', axis=1).columns)"
   ]
  },
  {
   "cell_type": "code",
   "execution_count": 22,
   "metadata": {},
   "outputs": [],
   "source": [
    "pred = get_col_matcher(models.feature_util.optional_cols)\n",
    "optional_cols = [col for col in db.columns if pred(col)]"
   ]
  },
  {
   "cell_type": "code",
   "execution_count": 5,
   "metadata": {},
   "outputs": [],
   "source": [
    "db_present = db[optional_cols].notna()  # will store the presence/absence of each value"
   ]
  },
  {
   "cell_type": "code",
   "execution_count": 6,
   "metadata": {},
   "outputs": [
    {
     "data": {
      "text/plain": [
       "BernoulliRBM(batch_size=10, learning_rate=0.01, n_components=100, n_iter=10,\n",
       "       random_state=0, verbose=0)"
      ]
     },
     "execution_count": 6,
     "metadata": {},
     "output_type": "execute_result"
    }
   ],
   "source": [
    "rbm = BernoulliRBM(n_components=100,\n",
    "                   learning_rate=0.01,\n",
    "                   n_iter=10,\n",
    "                   random_state=0)\n",
    "\n",
    "rbm.fit(db_present)"
   ]
  },
  {
   "cell_type": "code",
   "execution_count": 31,
   "metadata": {},
   "outputs": [
    {
     "name": "stdout",
     "output_type": "stream",
     "text": [
      "Company 247581 model prediction: 0.19516353 likelihood: 0.9999730992755771\n",
      "---> corrupting Field465 gives model prediction difference: 0.0028456002 likelihood difference: 2.1479216573250248e-05\n",
      "\n",
      "Company 315943 model prediction: 0.19339311 likelihood: 0.9999999939323536\n",
      "---> corrupting Field306 gives model prediction difference: 0.0028268695 likelihood difference: -5.07142191574772e-08\n",
      "\n",
      "Company 177838 model prediction: 0.19398965 likelihood: 0.9999999985136516\n",
      "---> corrupting dAccountsNextDueDate gives model prediction difference: 0.0015010238 likelihood difference: -9.674661072267554e-11\n",
      "\n",
      "Company 152 model prediction: 0.32914627 likelihood: 0.10977987263121303\n",
      "---> corrupting dReturnsLastMadeUpDate gives model prediction difference: 0.0041635633 likelihood difference: 0.2115530775733886\n",
      "\n",
      "Company 330457 model prediction: 0.19339311 likelihood: 0.9999999961884596\n",
      "---> corrupting Field306 gives model prediction difference: 0.0028268695 likelihood difference: -1.6411205505661997e-08\n",
      "\n",
      "Company 248918 model prediction: 0.18544112 likelihood: 0.9999730992755771\n",
      "---> corrupting Field465 gives model prediction difference: 0.006184697 likelihood difference: 2.1479216573250248e-05\n",
      "\n",
      "Company 255032 model prediction: 0.18544112 likelihood: 0.9999999939323536\n",
      "---> corrupting Field465 gives model prediction difference: 0.0041329116 likelihood difference: 1.8005184010405628e-09\n",
      "\n",
      "Company 576688 model prediction: 0.1967043 likelihood: 0.9999999983287289\n",
      "---> corrupting Field2705 gives model prediction difference: 0.047500715 likelihood difference: -1.0670198058448932e-09\n",
      "\n",
      "Company 462281 model prediction: 0.19734125 likelihood: 0.9999999967292297\n",
      "---> corrupting dAccountsNextDueDate gives model prediction difference: 0.025240153 likelihood difference: 5.276579173596474e-10\n",
      "\n",
      "Company 14419 model prediction: 0.19600984 likelihood: 0.9999730992755771\n",
      "---> corrupting dAccountsNextDueDate gives model prediction difference: 0.006982863 likelihood difference: 9.946937883587026e-06\n",
      "\n",
      "Company 18136 model prediction: 0.19816218 likelihood: 0.9999999967292297\n",
      "---> corrupting Field465 gives model prediction difference: 0.00016245246 likelihood difference: 4.6085668614637143e-10\n",
      "\n",
      "Company 320347 model prediction: 0.19634356 likelihood: 0.9999999824450879\n",
      "---> corrupting Field465 gives model prediction difference: -0.006769523 likelihood difference: 8.166573972623326e-09\n",
      "\n",
      "Company 183494 model prediction: 0.1967043 likelihood: 0.9999999967292297\n",
      "---> corrupting Field306 gives model prediction difference: -0.00048431754 likelihood difference: -5.1712386150981615e-08\n",
      "\n",
      "Company 91366 model prediction: 0.18544112 likelihood: 0.9999999939323536\n",
      "---> corrupting Field465 gives model prediction difference: 0.0041329116 likelihood difference: 1.8005184010405628e-09\n",
      "\n",
      "Company 279797 model prediction: 0.19700384 likelihood: 0.9999999939323536\n",
      "---> corrupting Field306 gives model prediction difference: -0.00012387335 likelihood difference: -5.07142191574772e-08\n",
      "\n"
     ]
    }
   ],
   "source": [
    "# consider the effect of removing the accounting fields for a given company:\n",
    "for i in range(1000):\n",
    "    comp_index = random.randint(0, 599999)\n",
    "    \n",
    "    present = db_present.iloc[comp_index].to_numpy()\n",
    "    values = x[comp_index]\n",
    "    \n",
    "    p_failed_prior = model.predict_proba(values.reshape((1, -1)))[0][1]\n",
    "    p_true_prior = np.exp(rbm.score_samples(present.reshape((1, -1))))\n",
    "    \n",
    "    # corrupt a single column (whose data is already present)\n",
    "    published_cols = [col for i, col in enumerate(optional_cols) if present[i]]\n",
    "    \n",
    "    if len(published_cols) > 0:\n",
    "        col = random.choice(published_cols)\n",
    "        \n",
    "        present[optional_cols.index(col)] = False\n",
    "        values[dbcols.index(col)] = None\n",
    "        \n",
    "        p_failed_posterior = model.predict_proba(values.reshape((1, -1)))[0][1]\n",
    "        p_true_posterior = np.exp(rbm.score_samples(present.reshape((1, -1))))\n",
    "        \n",
    "        if p_failed_posterior != p_failed_prior:\n",
    "            print(\"Company\", comp_index,\n",
    "                  \"model prediction:\",\n",
    "                  p_failed_prior,\n",
    "                  \"likelihood:\",\n",
    "                  p_true_prior)\n",
    "\n",
    "            print(\"---> corrupting\", col, \"gives\",\n",
    "                  \"model prediction difference:\",\n",
    "                  (p_failed_posterior - p_failed_prior),\n",
    "                  \"likelihood difference:\",\n",
    "                  (p_true_posterior - p_true_prior))\n",
    "            \n",
    "            print()\n",
    "    "
   ]
  },
  {
   "cell_type": "code",
   "execution_count": null,
   "metadata": {},
   "outputs": [],
   "source": []
  }
 ],
 "metadata": {
  "kernelspec": {
   "display_name": "Python 3",
   "language": "python",
   "name": "python3"
  },
  "language_info": {
   "codemirror_mode": {
    "name": "ipython",
    "version": 3
   },
   "file_extension": ".py",
   "mimetype": "text/x-python",
   "name": "python",
   "nbconvert_exporter": "python",
   "pygments_lexer": "ipython3",
   "version": "3.6.4"
  }
 },
 "nbformat": 4,
 "nbformat_minor": 2
}
