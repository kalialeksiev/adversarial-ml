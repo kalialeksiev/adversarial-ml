{
 "cells": [
  {
   "cell_type": "code",
   "execution_count": 1,
   "metadata": {},
   "outputs": [],
   "source": [
    "# set the working directory to be the root of the package\n",
    "# so that the imports work below\n",
    "import sys\n",
    "sys.path.append(\"..\")"
   ]
  },
  {
   "cell_type": "code",
   "execution_count": 2,
   "metadata": {},
   "outputs": [],
   "source": [
    "import numpy as np\n",
    "import pandas as pd\n",
    "import sklearn as skl\n",
    "import matplotlib.pyplot as plt\n",
    "import models.xgb as xgb\n",
    "import models.data_util"
   ]
  },
  {
   "cell_type": "code",
   "execution_count": 3,
   "metadata": {},
   "outputs": [],
   "source": [
    "data_file = \"../data/clean.pkl\"  # set this accordingly\n",
    "model_file = \"../data/xgb_model.bin\""
   ]
  },
  {
   "cell_type": "code",
   "execution_count": 4,
   "metadata": {},
   "outputs": [],
   "source": [
    "# Use helper function to convert everything to numpy etc:\n",
    "x, y_true = models.data_util.load_raw_data(data_file, cols=[\n",
    "    'Field*',\n",
    "    'Mortgages*',\n",
    "    'pos1', 'pos2',\n",
    "    'dAccountsLastMadeUpDate',\n",
    "    'dAccountsNextDueDate',\n",
    "    'dConfStmtLastMadeUpDate',\n",
    "    'dConfStmtNextDueDate',\n",
    "    'dContextInstant',\n",
    "    'dIncorporationDate',\n",
    "    'dPreviousName_1CONDATE',\n",
    "    'dPreviousName_2CONDATE',\n",
    "    'dReturnsLastMadeUpDate',\n",
    "    'dReturnsNextDueDate',\n",
    "    'eAccountsCategory',\n",
    "    'eCompanyCategory',\n",
    "    'SIC*', 'nSIC*',\n",
    "    'AccountsAccountCategory*',\n",
    "    'CompanyCategory*'\n",
    "])"
   ]
  },
  {
   "cell_type": "code",
   "execution_count": 5,
   "metadata": {},
   "outputs": [],
   "source": [
    "# load model\n",
    "model = xgb.from_file(model_file)"
   ]
  },
  {
   "cell_type": "code",
   "execution_count": 6,
   "metadata": {},
   "outputs": [
    {
     "name": "stdout",
     "output_type": "stream",
     "text": [
      "[0.49999523 0.49999523 0.49999523 ... 0.50000316 0.50000316 0.5000009 ]\n"
     ]
    }
   ],
   "source": [
    "# predict probabilities of positive class:\n",
    "y_pred = model.predict_proba(x).T[1].T\n",
    "print(y_pred)"
   ]
  },
  {
   "cell_type": "code",
   "execution_count": 7,
   "metadata": {},
   "outputs": [],
   "source": [
    "# get ROC graph\n",
    "fpr, tpr, thresholds = skl.metrics.roc_curve(y_true, y_pred)"
   ]
  },
  {
   "cell_type": "code",
   "execution_count": 8,
   "metadata": {},
   "outputs": [
    {
     "data": {
      "image/png": "[encoded data removed]",
      "text/plain": [
       "<Figure size 432x288 with 1 Axes>"
      ]
     },
     "metadata": {
      "needs_background": "light"
     },
     "output_type": "display_data"
    }
   ],
   "source": [
    "plt.plot(fpr, tpr)\n",
    "plt.xlabel(\"False positive rate\")\n",
    "plt.ylabel(\"True positive rate\")\n",
    "plt.show()"
   ]
  },
  {
   "cell_type": "code",
   "execution_count": 9,
   "metadata": {},
   "outputs": [
    {
     "name": "stdout",
     "output_type": "stream",
     "text": [
      "Area = 0.8904642558528428\n"
     ]
    }
   ],
   "source": [
    "print(\"Area =\", skl.metrics.auc(fpr, tpr))"
   ]
  },
  {
   "cell_type": "code",
   "execution_count": null,
   "metadata": {},
   "outputs": [],
   "source": []
  }
 ],
 "metadata": {
  "kernelspec": {
   "display_name": "Python 3",
   "language": "python",
   "name": "python3"
  },
  "language_info": {
   "codemirror_mode": {
    "name": "ipython",
    "version": 3
   },
   "file_extension": ".py",
   "mimetype": "text/x-python",
   "name": "python",
   "nbconvert_exporter": "python",
   "pygments_lexer": "ipython3",
   "version": "3.6.4"
  }
 },
 "nbformat": 4,
 "nbformat_minor": 2
}
